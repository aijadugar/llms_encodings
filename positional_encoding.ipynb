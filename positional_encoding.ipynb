{
  "nbformat": 4,
  "nbformat_minor": 0,
  "metadata": {
    "colab": {
      "provenance": []
    },
    "kernelspec": {
      "name": "python3",
      "display_name": "Python 3"
    },
    "language_info": {
      "name": "python"
    }
  },
  "cells": [
    {
      "cell_type": "code",
      "execution_count": 3,
      "metadata": {
        "id": "-Y6-Os_1lclj"
      },
      "outputs": [],
      "source": [
        "words = [\"cat\", \"dog\", \"fish\", \"cat\", \"dog\", \"bird\"]"
      ]
    },
    {
      "cell_type": "code",
      "source": [
        "import torch\n",
        "import numpy as np"
      ],
      "metadata": {
        "id": "RedlfdV9mRaw"
      },
      "execution_count": 1,
      "outputs": []
    },
    {
      "cell_type": "code",
      "source": [
        "class PositionalEncoding(torch.nn.Module):\n",
        "  def __init__(self, embed_dim, max_len= 5000):\n",
        "    super(PositionalEncoding, self).__init__()\n",
        "    pe = torch.zeros(max_len, embed_dim)\n",
        "    position = torch.arange(0, max_len, dtype= torch.float).unsqueeze(1)\n",
        "    div_term = torch.exp(torch.arange(0, embed_dim, 2).float() * (-np.log(10000.0) / embed_dim))\n",
        "    pe[:, 0::2] = torch.sin(position * div_term)\n",
        "    pe[:, 1::2] = torch.cos(position * div_term)\n",
        "    pe = pe.unsqueeze(0).transpose(0, 1)\n",
        "    self.register_buffer('pe', pe.unsqueeze(0))\n",
        "\n",
        "  def forward(self, x):\n",
        "    seq_len = x.size(1)\n",
        "    return x + self.pe[:, :seq_len]"
      ],
      "metadata": {
        "id": "rPJihK0TmdWP"
      },
      "execution_count": 5,
      "outputs": []
    },
    {
      "cell_type": "code",
      "source": [
        "if __name__ == '__main__':\n",
        "  embed_dim = 4\n",
        "  batch_size = 1\n",
        "  seq_len = len(words)\n",
        "  # Example token embeddings for simplicity\n",
        "  input_tensor = torch.tensor([\n",
        "      [0.1, 0.3, 0.5, 0.7],  # \"cat\"\n",
        "      [0.2, 0.4, 0.6, 0.8],  # \"dog\"\n",
        "      [0.3, 0.5, 0.7, 0.9],  # \"fish\"\n",
        "      [0.1, 0.3, 0.5, 0.7],  # \"cat\"\n",
        "      [0.2, 0.4, 0.6, 0.8],  # \"dog\"\n",
        "      [0.4, 0.6, 0.8, 1.0],  # \"bird\"\n",
        "  ]).unsqueeze(0)  # Add batch dimension: Shape (1, seq_len, embed_dim)\n",
        "  positional_encoding = PositionalEncoding(embed_dim= embed_dim, max_len= seq_len)\n",
        "  output_tensor = positional_encoding(input_tensor)\n",
        "  print(output_tensor)"
      ],
      "metadata": {
        "id": "u88hoDfrm2Yj",
        "colab": {
          "base_uri": "https://localhost:8080/"
        },
        "outputId": "a73e8e1c-d46e-448a-c143-7295fb0ded29"
      },
      "execution_count": 6,
      "outputs": [
        {
          "output_type": "stream",
          "name": "stdout",
          "text": [
            "tensor([[[[ 0.1000,  1.3000,  0.5000,  1.7000],\n",
            "          [ 0.2000,  1.4000,  0.6000,  1.8000],\n",
            "          [ 0.3000,  1.5000,  0.7000,  1.9000],\n",
            "          [ 0.1000,  1.3000,  0.5000,  1.7000],\n",
            "          [ 0.2000,  1.4000,  0.6000,  1.8000],\n",
            "          [ 0.4000,  1.6000,  0.8000,  2.0000]],\n",
            "\n",
            "         [[ 0.9415,  0.8403,  0.5100,  1.6999],\n",
            "          [ 1.0415,  0.9403,  0.6100,  1.8000],\n",
            "          [ 1.1415,  1.0403,  0.7100,  1.9000],\n",
            "          [ 0.9415,  0.8403,  0.5100,  1.6999],\n",
            "          [ 1.0415,  0.9403,  0.6100,  1.8000],\n",
            "          [ 1.2415,  1.1403,  0.8100,  1.9999]],\n",
            "\n",
            "         [[ 1.0093, -0.1161,  0.5200,  1.6998],\n",
            "          [ 1.1093, -0.0161,  0.6200,  1.7998],\n",
            "          [ 1.2093,  0.0839,  0.7200,  1.8998],\n",
            "          [ 1.0093, -0.1161,  0.5200,  1.6998],\n",
            "          [ 1.1093, -0.0161,  0.6200,  1.7998],\n",
            "          [ 1.3093,  0.1839,  0.8200,  1.9998]],\n",
            "\n",
            "         [[ 0.2411, -0.6900,  0.5300,  1.6996],\n",
            "          [ 0.3411, -0.5900,  0.6300,  1.7996],\n",
            "          [ 0.4411, -0.4900,  0.7300,  1.8995],\n",
            "          [ 0.2411, -0.6900,  0.5300,  1.6996],\n",
            "          [ 0.3411, -0.5900,  0.6300,  1.7996],\n",
            "          [ 0.5411, -0.3900,  0.8300,  1.9996]],\n",
            "\n",
            "         [[-0.6568, -0.3536,  0.5400,  1.6992],\n",
            "          [-0.5568, -0.2536,  0.6400,  1.7992],\n",
            "          [-0.4568, -0.1536,  0.7400,  1.8992],\n",
            "          [-0.6568, -0.3536,  0.5400,  1.6992],\n",
            "          [-0.5568, -0.2536,  0.6400,  1.7992],\n",
            "          [-0.3568, -0.0536,  0.8400,  1.9992]],\n",
            "\n",
            "         [[-0.8589,  0.5837,  0.5500,  1.6988],\n",
            "          [-0.7589,  0.6837,  0.6500,  1.7988],\n",
            "          [-0.6589,  0.7837,  0.7500,  1.8988],\n",
            "          [-0.8589,  0.5837,  0.5500,  1.6988],\n",
            "          [-0.7589,  0.6837,  0.6500,  1.7988],\n",
            "          [-0.5589,  0.8837,  0.8500,  1.9988]]]])\n"
          ]
        }
      ]
    },
    {
      "cell_type": "code",
      "source": [],
      "metadata": {
        "id": "NdYmfCkKoK0P"
      },
      "execution_count": null,
      "outputs": []
    }
  ]
}