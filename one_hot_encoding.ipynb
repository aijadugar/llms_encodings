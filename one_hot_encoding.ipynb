{
  "nbformat": 4,
  "nbformat_minor": 0,
  "metadata": {
    "colab": {
      "provenance": []
    },
    "kernelspec": {
      "name": "python3",
      "display_name": "Python 3"
    },
    "language_info": {
      "name": "python"
    }
  },
  "cells": [
    {
      "cell_type": "code",
      "execution_count": 1,
      "metadata": {
        "id": "-Y6-Os_1lclj"
      },
      "outputs": [],
      "source": [
        "words = [\"cat\", \"dog\", \"fish\", \"cat\", \"dog\", \"bird\"]"
      ]
    },
    {
      "cell_type": "code",
      "source": [
        "from os import listdir\n",
        "vocab = list(set(words))\n",
        "print(\"Vocabulary :\", vocab)"
      ],
      "metadata": {
        "colab": {
          "base_uri": "https://localhost:8080/"
        },
        "id": "RedlfdV9mRaw",
        "outputId": "ec30db55-a022-4a33-d7f9-61106fe5deb9"
      },
      "execution_count": 2,
      "outputs": [
        {
          "output_type": "stream",
          "name": "stdout",
          "text": [
            "Vocabulary : ['fish', 'cat', 'dog', 'bird']\n"
          ]
        }
      ]
    },
    {
      "cell_type": "code",
      "source": [
        "token_to_idx = {word: idx for idx, word in enumerate(vocab)}\n",
        "print(\"Token and id is :\", token_to_idx)"
      ],
      "metadata": {
        "colab": {
          "base_uri": "https://localhost:8080/"
        },
        "id": "rPJihK0TmdWP",
        "outputId": "7282ce2f-2eca-452e-cdc4-15d5f7d377b8"
      },
      "execution_count": 3,
      "outputs": [
        {
          "output_type": "stream",
          "name": "stdout",
          "text": [
            "Token and id is : {'fish': 0, 'cat': 1, 'dog': 2, 'bird': 3}\n"
          ]
        }
      ]
    },
    {
      "cell_type": "code",
      "source": [
        "def one_hot_encode(word, token_to_idx):\n",
        "  one_hot_vector = [0] * len(token_to_idx)\n",
        "  one_hot_vector[token_to_idx[word]] = 1\n",
        "  return one_hot_vector"
      ],
      "metadata": {
        "id": "u88hoDfrm2Yj"
      },
      "execution_count": 11,
      "outputs": []
    },
    {
      "cell_type": "code",
      "source": [
        "one_hot_vectors = [one_hot_encode(word, token_to_idx) for word in words]"
      ],
      "metadata": {
        "id": "aSxD69wsnDlK"
      },
      "execution_count": 12,
      "outputs": []
    },
    {
      "cell_type": "code",
      "source": [
        "for word, vector in zip(words, one_hot_vectors):\n",
        "  print(f\"word : {word} -> One-hot encoding : {vector}\")"
      ],
      "metadata": {
        "colab": {
          "base_uri": "https://localhost:8080/"
        },
        "id": "sKAFe43wngOT",
        "outputId": "fc705040-ca6b-4977-eae4-e48675559b1a"
      },
      "execution_count": 13,
      "outputs": [
        {
          "output_type": "stream",
          "name": "stdout",
          "text": [
            "word : cat -> One-hot encoding : [0, 1, 0, 0]\n",
            "word : dog -> One-hot encoding : [0, 0, 1, 0]\n",
            "word : fish -> One-hot encoding : [1, 0, 0, 0]\n",
            "word : cat -> One-hot encoding : [0, 1, 0, 0]\n",
            "word : dog -> One-hot encoding : [0, 0, 1, 0]\n",
            "word : bird -> One-hot encoding : [0, 0, 0, 1]\n"
          ]
        }
      ]
    },
    {
      "cell_type": "code",
      "source": [],
      "metadata": {
        "id": "NdYmfCkKoK0P"
      },
      "execution_count": null,
      "outputs": []
    }
  ]
}